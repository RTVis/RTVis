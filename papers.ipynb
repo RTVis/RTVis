{
  "cells": [
    {
      "cell_type": "code",
      "execution_count": null,
      "metadata": {
        "colab": {
          "base_uri": "https://localhost:8080/"
        },
        "id": "B2PzmnTYX1Sm",
        "outputId": "debd7d74-36cf-4b03-8a2f-a2520a3075b6"
      },
      "outputs": [],
      "source": [
        "!pip install semanticscholar"
      ]
    },
    {
      "cell_type": "code",
      "execution_count": 4,
      "metadata": {
        "id": "wdMDCL7hpTKe"
      },
      "outputs": [],
      "source": [
        "import urllib3, socket\n",
        "from urllib3.connection import HTTPConnection\n",
        "\n",
        "HTTPConnection.default_socket_options = (\n",
        "    HTTPConnection.default_socket_options + [\n",
        "    (socket.SOL_SOCKET, socket.SO_SNDBUF, 100000000),\n",
        "    (socket.SOL_SOCKET, socket.SO_RCVBUF, 100000000)\n",
        "])"
      ]
    },
    {
      "cell_type": "code",
      "execution_count": 6,
      "metadata": {
        "colab": {
          "base_uri": "https://localhost:8080/",
          "height": 658
        },
        "id": "BbDFMzhM8VL_",
        "outputId": "7db5d218-02ff-4722-ab18-5f85280a8b7f"
      },
      "outputs": [],
      "source": [
        "import pandas as pd\n",
        "from semanticscholar import SemanticScholar\n",
        "\n",
        "def papers(keyword, startYear, endYear):\n",
        "    sch = SemanticScholar()\n",
        "    df = pd.DataFrame()\n",
        "    for year in range(startYear, endYear+1):\n",
        "        results = sch.search_paper(keyword, year=str(year))\n",
        "        all_data = []\n",
        "        for item in results:\n",
        "            temp = [\"\",\"\",\"\",\"\",\"\",\"\",\"\"]\n",
        "            temp[0] = item['title']\n",
        "            for i in range(len(item['authors'])):\n",
        "                temp[1] += item['authors'][i]['name']\n",
        "                temp[1] += \", \"\n",
        "            temp[1] = temp[1][:len(temp[1])-1]\n",
        "            temp[2] = item['publicationDate']\n",
        "            temp[3] = item['abstract']\n",
        "            temp[4] = item['citationCount']\n",
        "            temp[5] = item['venue']\n",
        "            temp[6] = item['fieldsOfStudy']\n",
        "            all_data.append(temp)\n",
        "        column_names = ['Title','Author Name', 'Date','Abstract','Paper Citation Count','Venue','Fields Of Study']\n",
        "        df_new = pd.DataFrame(all_data, columns=column_names).dropna()\n",
        "        df = pd.concat([df, df_new], ignore_index=True)\n",
        "    return df\n"
      ]
    },
    {
      "cell_type": "code",
      "execution_count": 8,
      "metadata": {},
      "outputs": [],
      "source": [
        "df = papers('speech', 2023, 2023)\n",
        "#save this dataframe to csv file, if you want it be visualized, save it as 'demo_dataset.csv'\n",
        "df.to_csv('dataset.csv', index=False)"
      ]
    }
  ],
  "metadata": {
    "colab": {
      "provenance": []
    },
    "kernelspec": {
      "display_name": "tableau",
      "language": "python",
      "name": "python3"
    },
    "language_info": {
      "codemirror_mode": {
        "name": "ipython",
        "version": 3
      },
      "file_extension": ".py",
      "mimetype": "text/x-python",
      "name": "python",
      "nbconvert_exporter": "python",
      "pygments_lexer": "ipython3",
      "version": "3.10.9"
    },
    "orig_nbformat": 4,
    "vscode": {
      "interpreter": {
        "hash": "f30d7d1ef30ac7a2217d84d7b5bd53f28c55394fdb0959a62783719219421d0e"
      }
    }
  },
  "nbformat": 4,
  "nbformat_minor": 0
}
